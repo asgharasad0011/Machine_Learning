{
  "nbformat": 4,
  "nbformat_minor": 0,
  "metadata": {
    "colab": {
      "provenance": []
    },
    "kernelspec": {
      "name": "python3",
      "display_name": "Python 3"
    },
    "language_info": {
      "name": "python"
    }
  },
  "cells": [
    {
      "cell_type": "code",
      "execution_count": 2,
      "metadata": {
        "colab": {
          "base_uri": "https://localhost:8080/"
        },
        "id": "8tn0VSVJnftR",
        "outputId": "41e470f0-46e9-4e35-e036-0e907a7cefff"
      },
      "outputs": [
        {
          "output_type": "stream",
          "name": "stdout",
          "text": [
            "Number of data points: 30\n",
            "Sum of x: 162.39999999999998\n",
            "Sum of y: 2280120.0\n",
            "Sum of x*y: 14550132.4\n",
            "Sum of x^2: 1112.6799999999998\n",
            "Slope (m): 9449.962321455081\n",
            "Intercept (c): 24848.20396652317\n",
            "Prediction for 5 years experience: 72098.01557379858\n"
          ]
        }
      ],
      "source": [
        "import pandas as pd\n",
        "\n",
        "# Step 1: Load dataset\n",
        "df = pd.read_csv(\"/content/Salary_dataset.csv\")\n",
        "\n",
        "# Let's assume dataset has 'YearsExperience' and 'Salary' columns\n",
        "x = df['YearsExperience'].tolist()\n",
        "y = df['Salary'].tolist()\n",
        "\n",
        "# Step 2: Number of data points\n",
        "n = len(x)\n",
        "\n",
        "# Step 3: Calculate sums\n",
        "sum_x = sum(x)\n",
        "sum_y = sum(y)\n",
        "sum_xy = sum([x[i] * y[i] for i in range(n)])\n",
        "sum_x2 = sum([x[i] ** 2 for i in range(n)])\n",
        "\n",
        "# Step 4: Calculate slope (m) without using mean\n",
        "m = (n * sum_xy - sum_x * sum_y) / (n * sum_x2 - (sum_x ** 2))\n",
        "\n",
        "# Step 5: Calculate intercept (c)\n",
        "c = (sum_y - m * sum_x) / n\n",
        "\n",
        "# Step 6: Display results\n",
        "print(\"Number of data points:\", n)\n",
        "print(\"Sum of x:\", sum_x)\n",
        "print(\"Sum of y:\", sum_y)\n",
        "print(\"Sum of x*y:\", sum_xy)\n",
        "print(\"Sum of x^2:\", sum_x2)\n",
        "print(\"Slope (m):\", m)\n",
        "print(\"Intercept (c):\", c)\n",
        "\n",
        "# Step 7: Prediction function\n",
        "def predict(x_value):\n",
        "    return m * x_value + c\n",
        "\n",
        "# Example prediction\n",
        "test_x = 5\n",
        "print(f\"Prediction for {test_x} years experience:\", predict(test_x))\n"
      ]
    },
    {
      "cell_type": "code",
      "source": [
        "import pandas as pd\n",
        "from sklearn.linear_model import LinearRegression\n",
        "\n",
        "# 1. Load dataset\n",
        "df = pd.read_csv(\"/content/Salary_dataset.csv\")\n",
        "\n",
        "# 2. Separate features (X) and target (y)\n",
        "X = df[['YearsExperience']]  # double brackets → keeps it as a DataFrame\n",
        "y = df['Salary']  # single bracket → Series\n",
        "\n",
        "# 3. Create & train model\n",
        "model = LinearRegression()\n",
        "model.fit(X, y)\n",
        "\n",
        "# 4. Get coefficients\n",
        "m = model.coef_[0]  # slope\n",
        "c = model.intercept_  # intercept\n",
        "\n",
        "print(f\"Equation: Salary = {m:.2f} * YearsExperience + {c:.2f}\")\n",
        "\n",
        "# 5. Predict salary for example\n",
        "years_exp = 5\n",
        "predicted_salary = model.predict([[years_exp]])[0]\n",
        "print(f\"Predicted Salary for {years_exp} years experience: {predicted_salary:.2f}\")\n"
      ],
      "metadata": {
        "colab": {
          "base_uri": "https://localhost:8080/"
        },
        "id": "XxKrxoH6q-yz",
        "outputId": "0b77587b-e826-42ce-8511-3465043a425a"
      },
      "execution_count": 8,
      "outputs": [
        {
          "output_type": "stream",
          "name": "stdout",
          "text": [
            "Equation: Salary = 9449.96 * YearsExperience + 24848.20\n",
            "Predicted Salary for 5 years experience: 72098.02\n"
          ]
        },
        {
          "output_type": "stream",
          "name": "stderr",
          "text": [
            "/usr/local/lib/python3.11/dist-packages/sklearn/utils/validation.py:2739: UserWarning: X does not have valid feature names, but LinearRegression was fitted with feature names\n",
            "  warnings.warn(\n"
          ]
        }
      ]
    }
  ]
}